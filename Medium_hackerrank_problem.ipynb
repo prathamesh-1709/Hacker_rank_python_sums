{
 "cells": [
  {
   "cell_type": "code",
   "execution_count": 1,
   "id": "8a4b18d1-919c-42fb-aefa-5a54ef5710c1",
   "metadata": {},
   "outputs": [
    {
     "name": "stdin",
     "output_type": "stream",
     "text": [
      "Enter number of students:  4\n",
      "Enter student name:  raj\n",
      "Enter student marks:  45\n",
      "Enter student name:  sonu\n",
      "Enter student marks:  36\n",
      "Enter student name:  adit\n",
      "Enter student marks:  45\n",
      "Enter student name:  vinay\n",
      "Enter student marks:  85\n"
     ]
    },
    {
     "name": "stdout",
     "output_type": "stream",
     "text": [
      "adit\n",
      "raj\n"
     ]
    }
   ],
   "source": [
    "class Student:\n",
    "    def __init__(self):\n",
    "        self.students = []\n",
    "        \n",
    "     \n",
    "    def add(self, name, marks):\n",
    "        self.students.append([name, marks])\n",
    "     \n",
    "    def second_lowest(self):\n",
    "        res = [i[1] for i in self.students]\n",
    "        res = sorted(set(res))\n",
    "        if len(res) < 2:\n",
    "            return \n",
    "        values_1 = res[1]\n",
    "        values = [i[0] for i in self.students if i[1] == values_1]\n",
    "        values = sorted(values)\n",
    "        for i in values:\n",
    "            print(i)\n",
    "             \n",
    "\n",
    "if __name__ == \"__main__\":\n",
    "    std = Student()\n",
    "    n = int(input('Enter number of students: ').strip())\n",
    "    for i in range(n):\n",
    "        name = input('Enter student name: ').strip()\n",
    "        score = float(input('Enter student marks: ').strip())\n",
    "        std.add(name, score)\n",
    "    std.second_lowest()\n",
    "    "
   ]
  },
  {
   "cell_type": "code",
   "execution_count": null,
   "id": "8769a9ff-47a6-44ca-b616-9bbfdc1fa8fc",
   "metadata": {},
   "outputs": [],
   "source": []
  }
 ],
 "metadata": {
  "kernelspec": {
   "display_name": "Python 3 (ipykernel)",
   "language": "python",
   "name": "python3"
  },
  "language_info": {
   "codemirror_mode": {
    "name": "ipython",
    "version": 3
   },
   "file_extension": ".py",
   "mimetype": "text/x-python",
   "name": "python",
   "nbconvert_exporter": "python",
   "pygments_lexer": "ipython3",
   "version": "3.10.2"
  }
 },
 "nbformat": 4,
 "nbformat_minor": 5
}
