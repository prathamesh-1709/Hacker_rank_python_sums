class Student:
    def __init__(self):
        self.students = []
        
     
    def add(self, name, marks):
        self.students.append([name, marks])
     
    def second_lowest(self):
        res = [i[1] for i in self.students]
        res = sorted(set(res))
        if len(res) < 2:
            return 
        values_1 = res[1]
        values = [i[0] for i in self.students if i[1] == values_1]
        values = sorted(values)
        for i in values:
            print(i)
             

if __name__ == "__main__":
    std = Student()
    n = int(input('Enter number of students: ').strip())
    for i in range(n):
        name = input('Enter student name: ').strip()
        score = float(input('Enter student marks: ').strip())
        std.add(name, score)
    std.second_lowest()
    
