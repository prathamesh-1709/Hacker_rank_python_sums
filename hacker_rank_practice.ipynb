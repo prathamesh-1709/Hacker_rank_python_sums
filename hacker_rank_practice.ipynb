{
 "cells": [
  {
   "cell_type": "code",
   "execution_count": 1,
   "id": "d4c973af-86be-4420-8091-be7c5944342c",
   "metadata": {},
   "outputs": [],
   "source": [
    "class Student:\n",
    "     def __init__(self):\n",
    "         self.student = []\n",
    "         self.second_lowest()\n",
    "     \n",
    "     def add(self,name,marks):\n",
    "         self.student.append([name,marks])\n",
    "     \n",
    "     def second_lowest(self):\n",
    "         res = [i[1] for i in self.student]\n",
    "         res = sorted(set(res))\n",
    "         if len(res) < 2:\n",
    "             return \n",
    "         values_1 = res[1]\n",
    "         values = [ i[0]for i in self.student if i[1] == values_1 ]\n",
    "         values = sorted(values)\n",
    "         for i in values:\n",
    "             print(i)\n",
    "             \n",
    "\n"
   ]
  },
  {
   "cell_type": "code",
   "execution_count": 2,
   "id": "1cc0cbc3-53db-440f-87a0-718d42c8aff4",
   "metadata": {},
   "outputs": [
    {
     "name": "stdin",
     "output_type": "stream",
     "text": [
      "Enter number of students:  5\n",
      "enter your name:  dytfyu\n",
      "enter your marks:  1\n",
      "enter your name:  gyt\n",
      "enter your marks:  2\n",
      "enter your name:  fyh\n",
      "enter your marks:  2\n",
      "enter your name:  cyy\n",
      "enter your marks:  3\n",
      "enter your name:  gvn\n",
      "enter your marks:  5\n"
     ]
    }
   ],
   "source": [
    "std = Student()\n",
    "n = int(input('Enter number of students: ').strip())\n",
    "for i in range(n):\n",
    "    name = input('enter your name: ').strip()\n",
    "    score = float(input(\"enter your marks: \"))\n",
    "    std.add(name,score)"
   ]
  },
  {
   "cell_type": "code",
   "execution_count": 10,
   "id": "cd2a703c-cfaa-4559-af54-c809b6612f1c",
   "metadata": {},
   "outputs": [
    {
     "name": "stdin",
     "output_type": "stream",
     "text": [
      "Enter number of students:  4\n",
      "enter your name:  rin\n",
      "enter your marks:  1\n",
      "enter your name:  raj\n",
      "enter your marks:  2\n",
      "enter your name:  sun\n",
      "enter your marks:  2\n",
      "enter your name:  surya\n",
      "enter your marks:  4.5\n"
     ]
    }
   ],
   "source": [
    "if __name__ == \"__main__\":\n",
    "    std = Student()\n",
    "    n = int(input('Enter number of students: ').strip())\n",
    "    # res = []\n",
    "    for i in range(n):\n",
    "        name = input('enter your name: ').strip()\n",
    "        score = float(input(\"enter your marks: \"))\n",
    "        std.add(name,score)"
   ]
  },
  {
   "cell_type": "code",
   "execution_count": 8,
   "id": "8ec1bcab-b0a8-4967-a9d0-0e79c4c6a921",
   "metadata": {},
   "outputs": [
    {
     "name": "stdin",
     "output_type": "stream",
     "text": [
      "Enter number of students:  4\n",
      "Enter student name:  yusbn\n",
      "Enter student marks:  2\n",
      "Enter student name:  osviucsn\n",
      "Enter student marks:  3\n",
      "Enter student name:  bsdciuns\n",
      "Enter student marks:  3\n",
      "Enter student name:  dbico\n",
      "Enter student marks:  4\n"
     ]
    },
    {
     "name": "stdout",
     "output_type": "stream",
     "text": [
      "bsdciuns\n",
      "osviucsn\n"
     ]
    }
   ],
   "source": []
  },
  {
   "cell_type": "code",
   "execution_count": 1,
   "id": "9b7ad2b4-e61b-4d9d-bccf-692a9d225540",
   "metadata": {},
   "outputs": [
    {
     "name": "stdout",
     "output_type": "stream",
     "text": [
      "1\n"
     ]
    }
   ],
   "source": [
    "print(1)"
   ]
  },
  {
   "cell_type": "code",
   "execution_count": 3,
   "id": "2b332879-2d18-4258-b1fe-24c1d6b66bee",
   "metadata": {},
   "outputs": [
    {
     "name": "stdout",
     "output_type": "stream",
     "text": [
      "abc\n"
     ]
    }
   ],
   "source": [
    "print('abc')"
   ]
  },
  {
   "cell_type": "code",
   "execution_count": 4,
   "id": "1833cbee-fde9-4ac0-8831-ce57065cf605",
   "metadata": {},
   "outputs": [
    {
     "name": "stdin",
     "output_type": "stream",
     "text": [
      " 4\n",
      " dfud\n",
      " 1\n",
      " bdcbs\n",
      " 2\n",
      " bviuds\n",
      " 2\n",
      " bsdibsi\n",
      " 34\n"
     ]
    },
    {
     "name": "stdout",
     "output_type": "stream",
     "text": [
      "bdcbs\n",
      "bviuds\n"
     ]
    }
   ],
   "source": [
    "class StudentManager:\n",
    "    def __init__(self):\n",
    "        self.students = {}\n",
    "\n",
    "    def add_student(self, name, score):\n",
    "        self.students[name] = score\n",
    "\n",
    "    def find_second_lowest(self):\n",
    "        if len(self.students) < 2:\n",
    "            return []  # If fewer than 2 students, there can't be a second lowest\n",
    "        \n",
    "        # Filter out non-numeric values and get unique sorted numeric grades\n",
    "        numeric_grades = [score for score in self.students.values() if isinstance(score, (int, float))]\n",
    "        sorted_grades = sorted(set(numeric_grades))\n",
    "        \n",
    "        if len(sorted_grades) < 2:\n",
    "            return []  # If fewer than 2 unique numeric grades, we can't find second lowest\n",
    "        \n",
    "        second_lowest_grade = sorted_grades[1]  # Second element is the second lowest numeric grade\n",
    "        \n",
    "        # Collect names of students with the second lowest numeric grade\n",
    "        students_with_second_lowest = sorted([name for name, score in self.students.items() \n",
    "                                             if score == second_lowest_grade and isinstance(score, (int, float))])\n",
    "        \n",
    "        return students_with_second_lowest\n",
    "\n",
    "if __name__ == '__main__':\n",
    "    manager = StudentManager()\n",
    "    n = int(input().strip())\n",
    "    \n",
    "    for _ in range(n):\n",
    "        name = input().strip()\n",
    "        score = input().strip()\n",
    "        \n",
    "        try:\n",
    "            score = float(score)  # Attempt to convert score to float\n",
    "        except ValueError:\n",
    "            pass  # If score cannot be converted to float, leave it as string\n",
    "        \n",
    "        manager.add_student(name, score)\n",
    "        \n",
    "    result = manager.find_second_lowest()\n",
    "    \n",
    "    if result:\n",
    "        for student in result:\n",
    "            print(student)\n"
   ]
  },
  {
   "cell_type": "code",
   "execution_count": 15,
   "id": "829acbcd-ded1-4dea-86a3-b8b548f98b7e",
   "metadata": {},
   "outputs": [
    {
     "name": "stdin",
     "output_type": "stream",
     "text": [
      " 2\n",
      " rn 20 10 10 \n",
      " ra 30 40 20\n",
      " ra\n"
     ]
    },
    {
     "name": "stdout",
     "output_type": "stream",
     "text": [
      "30.00\n"
     ]
    }
   ],
   "source": [
    "if __name__ == '__main__':\n",
    "    n = int(input())\n",
    "    student_marks = {}\n",
    "    for _ in range(n):\n",
    "        name, *line = input().split()\n",
    "        scores = list(map(float, line))\n",
    "        student_marks[name] = scores\n",
    "    query_name = input()\n",
    "    if query_name in student_marks:\n",
    "        res = student_marks[query_name]\n",
    "        add1 = sum(res)\n",
    "        len1 = len(res)\n",
    "        total_res = add1/len1\n",
    "        print(\"{:.2f}\".format(total_res))"
   ]
  },
  {
   "cell_type": "markdown",
   "id": "d2c4d5be-8403-4b32-bd37-22817f8e2584",
   "metadata": {},
   "source": [
    "### To check Valid UID"
   ]
  },
  {
   "cell_type": "raw",
   "id": "30bd05b2-86a7-40c4-b1ed-3dc1debc52ab",
   "metadata": {},
   "source": [
    "rules\n",
    "A valid UID must follow the rules below:\n",
    "\n",
    "It must contain at least 2 uppercase English alphabet characters.\n",
    "It must contain at least 3 digit(0 -9).\n",
    "It should only contain alphanumeric characters(0 - 9, a - z, A - Z).\n",
    "No character should repeat.\n",
    "There must be exactly 10 characters in UID i.e valid"
   ]
  },
  {
   "cell_type": "code",
   "execution_count": 2,
   "id": "51ac4c25-872d-478c-96f8-10cf0dca4b8d",
   "metadata": {},
   "outputs": [
    {
     "name": "stdin",
     "output_type": "stream",
     "text": [
      " 2\n",
      " B1CD102354\n",
      " B1CDEF2354\n"
     ]
    },
    {
     "name": "stdout",
     "output_type": "stream",
     "text": [
      "Invalid\n",
      "Valid\n"
     ]
    }
   ],
   "source": [
    "def valid_uid(n):\n",
    "    \n",
    "    if len(n) != 10:\n",
    "        return 'Invalid'\n",
    "        \n",
    "    upper_count = 0 \n",
    "    digit_count = 0\n",
    "    seen_chars = set()\n",
    "    \n",
    "        \n",
    "        \n",
    "    for i in n:\n",
    "        if i.isdigit():\n",
    "            digit_count += 1 \n",
    "        elif i.isupper():\n",
    "            upper_count += 1\n",
    "        else:\n",
    "            return 'Invalid'\n",
    "        if i in seen_chars:\n",
    "            return \"Invalid\"  # Character repeats\n",
    "            \n",
    "        seen_chars.add(i)\n",
    "        \n",
    "    if upper_count >= 2 and digit_count >= 3:\n",
    "        return \"Valid\"\n",
    "    else:\n",
    "        return \"Invalid\"\n",
    "    # Print all results for each UID\n",
    "    \n",
    "            \n",
    "        \n",
    "    \n",
    "    \n",
    "    \n",
    "if __name__ == '__main__':\n",
    "    in1 = int(input().strip())\n",
    "    results = []\n",
    "    for _ in range(in1):\n",
    "        uid = input().strip()  # Read each UID\n",
    "        result = valid_uid(uid)  # Validate UID\n",
    "        results.append(result)\n",
    "    \n",
    "    # Print all results for each UID\n",
    "    for result in results:\n",
    "        print(result)\n"
   ]
  },
  {
   "cell_type": "code",
   "execution_count": null,
   "id": "badefeb5-aea3-4f05-9b03-fe73317dc91e",
   "metadata": {},
   "outputs": [],
   "source": [
    "input_count = int(input())\n",
    "    \n",
    "def is_uid_valid(uid):\n",
    "    uppercase_count = 0\n",
    "    digit_count = 0\n",
    "    alpha_count = 0\n",
    "    has_repeating = False\n",
    "    \n",
    "    for char in uid:\n",
    "        \n",
    "        if char.isupper():\n",
    "            uppercase_count += 1\n",
    "        if char.isdigit():\n",
    "            digit_count += 1\n",
    "        if char.isalpha():\n",
    "            alpha_count += 1\n",
    "            \n",
    "    if len(set(uid)) != len(uid):\n",
    "        has_repeating = True\n",
    "        \n",
    "    if (uppercase_count >= 2 and\n",
    "    digit_count >= 3 and\n",
    "    not has_repeating and\n",
    "    len(uid) == 10 and\n",
    "    (digit_count + alpha_count) == len(uid)):\n",
    "        return True\n",
    "    else:\n",
    "        return False\n",
    "    \n",
    "    \n",
    "for _ in range(input_count):\n",
    "    \n",
    "    uid = input()\n",
    "    \n",
    "    if is_uid_valid(uid):\n",
    "        print(\"Valid\")\n",
    "    else:\n",
    "        print(\"Invalid\")\n",
    "\n",
    "### this is another way to solve the above sum as the above is not fully optimized this is one is"
   ]
  }
 ],
 "metadata": {
  "kernelspec": {
   "display_name": "Python 3 (ipykernel)",
   "language": "python",
   "name": "python3"
  },
  "language_info": {
   "codemirror_mode": {
    "name": "ipython",
    "version": 3
   },
   "file_extension": ".py",
   "mimetype": "text/x-python",
   "name": "python",
   "nbconvert_exporter": "python",
   "pygments_lexer": "ipython3",
   "version": "3.10.2"
  }
 },
 "nbformat": 4,
 "nbformat_minor": 5
}
