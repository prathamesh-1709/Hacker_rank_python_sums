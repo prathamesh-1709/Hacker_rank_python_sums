{
 "cells": [
  {
   "cell_type": "markdown",
   "id": "a38822e5-8b41-4af6-96c4-e2fb257529eb",
   "metadata": {},
   "source": [
    "Sure! Here are 50 basic problems you can solve using Python, suitable for practice with different concepts like loops, conditionals, functions, and data structures:\n",
    "\n",
    "1. **Hello, World!**: Print \"Hello, World!\" to the console.\n",
    "2. **Sum of Two Numbers**: Write a program that adds two numbers and prints the result.\n",
    "3. **Even or Odd**: Determine if a number is even or odd.\n",
    "4. **Factorial**: Calculate the factorial of a given number.\n",
    "5. **Fibonacci Sequence**: Generate the Fibonacci sequence up to the nth term.\n",
    "6. **Prime Number Check**: Check if a number is prime.\n",
    "7. **Palindrome Checker**: Check if a string is a palindrome.\n",
    "8. **Reverse a String**: Reverse a given string.\n",
    "9. **Count Vowels**: Count the number of vowels in a given string.\n",
    "10. **Find the Largest Number**: Find the largest number in a list.\n",
    "11. **Find the Smallest Number**: Find the smallest number in a list.\n",
    "12. **Sum of a List**: Calculate the sum of all elements in a list.\n",
    "13. **Average of a List**: Calculate the average of numbers in a list.\n",
    "14. **Sort a List**: Sort a list in ascending or descending order.\n",
    "15. **Merge Two Lists**: Merge two lists into one.\n",
    "16. **Check for Anagrams**: Check if two strings are anagrams of each other.\n",
    "17. **Count Words**: Count the number of words in a given string.\n",
    "18. **Find the Most Frequent Element**: Find the most frequently occurring element in a list.\n",
    "19. **Remove Duplicates**: Remove duplicate elements from a list.\n",
    "20. **Sum of Digits**: Calculate the sum of digits of a number.\n",
    "21. **Convert Celsius to Fahrenheit**: Convert a temperature from Celsius to Fahrenheit.\n",
    "22. **Find Common Elements**: Find common elements between two lists.\n",
    "23. **List Comprehensions**: Use list comprehensions to create a list of squares of numbers.\n",
    "24. **Dictionary Keys and Values**: Print all keys and values of a dictionary.\n",
    "25. **Merge Dictionaries**: Merge two dictionaries into one.\n",
    "26. **Count Character Frequency**: Count the frequency of each character in a string.\n",
    "27. **Find the Median**: Find the median value in a list of numbers.\n",
    "28. **Check for Armstrong Number**: Check if a number is an Armstrong number.\n",
    "29. **Generate Multiplication Table**: Generate a multiplication table for a given number.\n",
    "30. **Convert Number to Binary**: Convert a number from decimal to binary.\n",
    "31. **Find the GCD**: Find the greatest common divisor of two numbers.\n",
    "32. **Check for Perfect Number**: Check if a number is a perfect number.\n",
    "33. **Caesar Cipher**: Implement a simple Caesar cipher encryption and decryption.\n",
    "34. **Sum of Series**: Calculate the sum of a series (e.g., 1 + 1/2 + 1/3 + ... + 1/n).\n",
    "35. **Count Digits in a Number**: Count the number of digits in a number.\n",
    "36. **Simple Calculator**: Create a simple calculator that performs addition, subtraction, multiplication, and division.\n",
    "37. **Generate Random Numbers**: Generate a list of random numbers.\n",
    "38. **Guess the Number**: Implement a number guessing game.\n",
    "39. **Matrix Addition**: Add two matrices.\n",
    "40. **Matrix Multiplication**: Multiply two matrices.\n",
    "41. **Check for Perfect Square**: Check if a number is a perfect square.\n",
    "42. **Find the nth Prime Number**: Find the nth prime number.\n",
    "43. **Find the Sum of an Arithmetic Series**: Find the sum of an arithmetic series.\n",
    "44. **Convert Binary to Decimal**: Convert a binary number to decimal.\n",
    "45. **Check for Leap Year**: Check if a given year is a leap year.\n",
    "46. **Simple Interest Calculation**: Calculate simple interest given principal, rate, and time.\n",
    "47. **Compound Interest Calculation**: Calculate compound interest given principal, rate, time, and number of times interest applied per year.\n",
    "48. **Word Frequency Counter**: Count the frequency of each word in a text.\n",
    "49. **Check if String Contains Substring**: Check if a string contains a specific substring.\n",
    "50. **Find the Sum of Squares**: Find the sum of squares of numbers from 1 to n.\n",
    "\n",
    "These problems cover a range of basic programming concepts and should provide a solid foundation for further learning and practice. Let me know if you'd like solutions or explanations for any of these!"
   ]
  },
  {
   "cell_type": "code",
   "execution_count": 1,
   "id": "fce5d89b-5451-4f3c-b0ae-990c5e2a89d0",
   "metadata": {},
   "outputs": [
    {
     "name": "stdout",
     "output_type": "stream",
     "text": [
      "Hello World\n"
     ]
    }
   ],
   "source": [
    "print(\"Hello World\")"
   ]
  },
  {
   "cell_type": "code",
   "execution_count": 2,
   "id": "5a4ca183-2876-48a8-8f15-4e548fe1dc6d",
   "metadata": {},
   "outputs": [
    {
     "name": "stdout",
     "output_type": "stream",
     "text": [
      "8\n"
     ]
    }
   ],
   "source": [
    "a = 3 \n",
    "b = 5 \n",
    "print(a+b)"
   ]
  },
  {
   "cell_type": "code",
   "execution_count": 3,
   "id": "e70ae81b-d54e-49f3-a28d-9d07fc40cd09",
   "metadata": {},
   "outputs": [
    {
     "name": "stdout",
     "output_type": "stream",
     "text": [
      "odd\n",
      "even\n",
      "not valid\n"
     ]
    }
   ],
   "source": [
    "def even_odd(m):\n",
    "    if m < 0:\n",
    "        return \"not valid\"\n",
    "    elif m % 2 == 0 :\n",
    "        return \"even\"\n",
    "    else:\n",
    "        return \"odd\"\n",
    "\n",
    "print(even_odd(3))\n",
    "print(even_odd(4))\n",
    "print(even_odd(-1))\n"
   ]
  },
  {
   "cell_type": "code",
   "execution_count": 4,
   "id": "1b8a8b13-fec1-42d5-a0b8-ed9e5a6db900",
   "metadata": {},
   "outputs": [
    {
     "name": "stdout",
     "output_type": "stream",
     "text": [
      "120\n"
     ]
    }
   ],
   "source": [
    "def factorial(n):\n",
    "    if n == 0 or n == 1:\n",
    "        return n\n",
    "    return n* factorial(n-1)\n",
    "\n",
    "print(factorial(5))"
   ]
  },
  {
   "cell_type": "code",
   "execution_count": 4,
   "id": "eb9a9808-8c0d-4524-bfef-26f8e3fca84c",
   "metadata": {},
   "outputs": [
    {
     "name": "stdout",
     "output_type": "stream",
     "text": [
      "Fibonacci sequence:\n",
      "0\n",
      "1\n",
      "1\n",
      "2\n",
      "3\n"
     ]
    }
   ],
   "source": [
    "def fibonacci_series(n):\n",
    "    if n <=1  :\n",
    "        return n\n",
    "    return fibonacci_series(n-1)+fibonacci_series(n-2)\n",
    "\n",
    "\n",
    "nterms = 5\n",
    "\n",
    "\n",
    "\n",
    "# check if the number of terms is valid\n",
    "if nterms <= 0:\n",
    "   print(\"Plese enter a positive integer\")\n",
    "else:\n",
    "   print(\"Fibonacci sequence:\")\n",
    "   for i in range(nterms):\n",
    "       print(fibonacci_series(i))"
   ]
  },
  {
   "cell_type": "code",
   "execution_count": 1,
   "id": "62b92f82-f4ce-4dd5-a6d0-eee2d9e2b428",
   "metadata": {},
   "outputs": [
    {
     "name": "stdout",
     "output_type": "stream",
     "text": [
      "3\n"
     ]
    }
   ],
   "source": [
    "print(1+2)"
   ]
  },
  {
   "cell_type": "code",
   "execution_count": 21,
   "id": "ba3b530f-daf9-460f-b1d3-6918f3ce2554",
   "metadata": {},
   "outputs": [
    {
     "name": "stdout",
     "output_type": "stream",
     "text": [
      "5\n"
     ]
    }
   ],
   "source": [
    "def fibonacci_series1(n):\n",
    "    if n == 0:\n",
    "        return n\n",
    "    elif n == 1 or n == 2 :\n",
    "        return 1\n",
    "    return fibonacci_series1(n-1) + fibonacci_series1(n-2)\n",
    "\n",
    "n = 10\n",
    "for i in range(10):\n",
    "    \n",
    "\n",
    "print(fibonacci_series1(5))"
   ]
  },
  {
   "cell_type": "code",
   "execution_count": 14,
   "id": "426caac7-2c8f-4475-9df4-411d13e75bfd",
   "metadata": {},
   "outputs": [
    {
     "name": "stdout",
     "output_type": "stream",
     "text": [
      "0\n",
      "1\n",
      "0\n",
      "1\n",
      "0\n",
      "1\n",
      "0\n",
      "1\n"
     ]
    }
   ],
   "source": [
    "count = 0 \n",
    "total = 1 \n",
    "for i in range(1,5):\n",
    "    print(count)\n",
    "    total = count + total\n",
    "    print(total)"
   ]
  },
  {
   "cell_type": "code",
   "execution_count": 15,
   "id": "2179f326-1b46-46aa-b7b1-0603af7a0edf",
   "metadata": {},
   "outputs": [
    {
     "name": "stdout",
     "output_type": "stream",
     "text": [
      "0\n",
      "1\n",
      "1\n",
      "2\n",
      "3\n"
     ]
    }
   ],
   "source": [
    "a = 0 \n",
    "b = 1\n",
    "for i in range(5):\n",
    "    print(a)\n",
    "    total = a + b\n",
    "    a = b\n",
    "    b = total\n",
    "    "
   ]
  },
  {
   "cell_type": "code",
   "execution_count": 17,
   "id": "0f1ed56e-aa8c-43e7-97b5-c2d2536be7a2",
   "metadata": {},
   "outputs": [
    {
     "name": "stdout",
     "output_type": "stream",
     "text": [
      "[0, 1, 1, 2, 3]\n"
     ]
    }
   ],
   "source": [
    "a,b = 0,1\n",
    "no = []\n",
    "for i in range(5):\n",
    "    no.append(a)\n",
    "    a,b = b,a+b\n",
    "\n",
    "print(no)"
   ]
  },
  {
   "cell_type": "markdown",
   "id": "35b18b7b",
   "metadata": {},
   "source": [
    "Dynammic Programming Start from over here to solve\n"
   ]
  },
  {
   "cell_type": "markdown",
   "id": "e15a273b-627e-459f-9d41-1fefc96ae7ed",
   "metadata": {},
   "source": [
    "### Climbing Stairs\n",
    "\n",
    "1.You are climbing a staircase. It takes n steps to reach the top.\n",
    "\n",
    "Each time you can either climb 1 or 2 steps. In how many distinct ways can you climb to the top?\n",
    "\n",
    " \n",
    "\n",
    "Example 1:\n",
    "\n",
    "Input: n = 2\n",
    "Output: 2\n",
    "Explanation: There are two ways to climb to the top.\n",
    "1. 1 step + 1 step\n",
    "2. 2 steps\n",
    "Example 2:\n",
    "\n",
    "Input: n = 3\n",
    "Output: 3\n",
    "Explanation: There are three ways to climb to the top.\n",
    "1. 1 step + 1 step + 1 step\n",
    "2. 1 step + 2 steps\n",
    "3. 2 steps + 1 step \n"
   ]
  },
  {
   "cell_type": "code",
   "execution_count": 3,
   "id": "ce958f0d",
   "metadata": {},
   "outputs": [],
   "source": [
    "class solution:\n",
    "    def climbing_stairs(self,n):\n",
    "        if n == 0 or n == 1:\n",
    "            return 1 \n",
    "        \n",
    "        first = 1 \n",
    "        second = 1 \n",
    "\n",
    "        for i in range(2,n+1):\n",
    "            current = second + first\n",
    "            first = second\n",
    "            second = current\n",
    "\n",
    "        return second\n",
    "    \n",
    "\n",
    "a = solution()\n",
    "\n"
   ]
  },
  {
   "cell_type": "code",
   "execution_count": 7,
   "id": "5cc48393",
   "metadata": {},
   "outputs": [
    {
     "name": "stdout",
     "output_type": "stream",
     "text": [
      "8\n",
      "5\n"
     ]
    }
   ],
   "source": [
    "print(a.climbing_stairs(5))\n",
    "print(a.climbing_stairs(4))\n"
   ]
  },
  {
   "cell_type": "code",
   "execution_count": 9,
   "id": "822d53ef",
   "metadata": {},
   "outputs": [],
   "source": [
    "class Solution:\n",
    "    def __init__(self,num_rows):\n",
    "        self.num_rows = num_rows\n",
    "        self.triangle = self.generate(num_rows)\n",
    "    def factorial(self,n):\n",
    "        if n == 0 or n == 1:\n",
    "            return 1\n",
    "        result = 1 \n",
    "        for i in range(2,n+1):\n",
    "            result *= i\n",
    "        return result\n",
    "\n",
    "    def generate(self, numRows: int):\n",
    "        triangle = []\n",
    "        for i in range(numRows):\n",
    "            row = []\n",
    "            for j in range(i+1):\n",
    "                res = self.factorial(i)//(self.factorial(j)*(self.factorial(i - j)))\n",
    "                row.append(res)\n",
    "            \n",
    "            triangle.append(row)\n",
    "\n",
    "        return triangle\n",
    "    \n",
    "    def get_triangle(self):\n",
    "        return self.triangle"
   ]
  },
  {
   "cell_type": "code",
   "execution_count": 10,
   "id": "384c90ff",
   "metadata": {},
   "outputs": [
    {
     "name": "stdout",
     "output_type": "stream",
     "text": [
      "[[1], [1, 1], [1, 2, 1], [1, 3, 3, 1], [1, 4, 6, 4, 1]]\n"
     ]
    }
   ],
   "source": [
    "solution = Solution(5)\n",
    "result = solution.get_triangle()\n",
    "print(result)"
   ]
  },
  {
   "cell_type": "code",
   "execution_count": null,
   "id": "979f1dbd",
   "metadata": {},
   "outputs": [],
   "source": [
    "res = [[1]]\n",
    "for _ in range(numRows - 1):\n",
    "            dummy_row = [0] + res[-1] + [0]"
   ]
  },
  {
   "cell_type": "markdown",
   "id": "e74afe21",
   "metadata": {},
   "source": [
    "dummy = [0] + [1] + [0]\n",
    "dummy\n",
    "so this is nothing but list concatenation"
   ]
  },
  {
   "cell_type": "code",
   "execution_count": 15,
   "id": "f0aabd47",
   "metadata": {},
   "outputs": [
    {
     "name": "stdout",
     "output_type": "stream",
     "text": [
      "[[1], [1, 1], [1, 2, 1], [1, 3, 3, 1], [1, 4, 6, 4, 1]]\n"
     ]
    }
   ],
   "source": [
    "class Solution:\n",
    "    def generate(self, numRows: int):\n",
    "        res = [[1]]\n",
    "\n",
    "        for _ in range(numRows - 1):\n",
    "            dummy_row = [0] + res[-1] + [0]\n",
    "            row = []\n",
    "\n",
    "            for i in range(len(res[-1]) + 1):\n",
    "                row.append(dummy_row[i] + dummy_row[i+1])\n",
    "            res.append(row)\n",
    "        \n",
    "        return res\n",
    "    \n",
    "solution = Solution()\n",
    "result = solution.generate(5)\n",
    "print(result)"
   ]
  },
  {
   "cell_type": "code",
   "execution_count": null,
   "id": "becc6441",
   "metadata": {},
   "outputs": [],
   "source": []
  }
 ],
 "metadata": {
  "kernelspec": {
   "display_name": "Python 3 (ipykernel)",
   "language": "python",
   "name": "python3"
  },
  "language_info": {
   "codemirror_mode": {
    "name": "ipython",
    "version": 3
   },
   "file_extension": ".py",
   "mimetype": "text/x-python",
   "name": "python",
   "nbconvert_exporter": "python",
   "pygments_lexer": "ipython3",
   "version": "3.10.2"
  }
 },
 "nbformat": 4,
 "nbformat_minor": 5
}
