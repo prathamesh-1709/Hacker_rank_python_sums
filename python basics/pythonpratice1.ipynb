{
 "cells": [
  {
   "cell_type": "markdown",
   "id": "2a9e526e-3a98-4980-897f-48055b8c00f5",
   "metadata": {},
   "source": [
    "Given two integer numbers, write a Python code to return their product only if the product is equal to or lower than 1000. Otherwise, return their sum."
   ]
  },
  {
   "cell_type": "code",
   "execution_count": 1,
   "id": "e0f37f91-cb3f-4f95-93b6-558f2f442fd3",
   "metadata": {},
   "outputs": [
    {
     "name": "stdout",
     "output_type": "stream",
     "text": [
      "600\n"
     ]
    }
   ],
   "source": [
    "def two_integers(n,m):\n",
    "    if (n*m) < 1000:\n",
    "        return n * m\n",
    "    else:\n",
    "        return n + m\n",
    "\n",
    "print(two_integers(20,30))"
   ]
  },
  {
   "cell_type": "code",
   "execution_count": 5,
   "id": "c2b8184b-6fb8-4af1-8d76-1f6debe9085a",
   "metadata": {},
   "outputs": [
    {
     "name": "stdout",
     "output_type": "stream",
     "text": [
      "current number 0 previous number 0 sum 0\n",
      "current number 1 previous number 0 sum 1\n",
      "current number 2 previous number 1 sum 3\n",
      "current number 3 previous number 2 sum 5\n",
      "current number 4 previous number 3 sum 7\n",
      "current number 5 previous number 4 sum 9\n",
      "current number 6 previous number 5 sum 11\n",
      "current number 7 previous number 6 sum 13\n",
      "current number 8 previous number 7 sum 15\n",
      "current number 9 previous number 8 sum 17\n",
      "current number 10 previous number 9 sum 19\n"
     ]
    }
   ],
   "source": [
    "def current_previous(n):\n",
    "    prev = 0\n",
    "    for i in range(0,n+1):\n",
    "        total = prev + i\n",
    "        print(f'current number {i} previous number {prev} sum {total}')\n",
    "        prev = i\n",
    "\n",
    "current_previous(10)"
   ]
  },
  {
   "cell_type": "code",
   "execution_count": 8,
   "id": "a3afc81f-a502-4f9e-8f4c-44c9781c4ea6",
   "metadata": {},
   "outputs": [
    {
     "name": "stdout",
     "output_type": "stream",
     "text": [
      "p\n",
      "n\n",
      "t\n",
      "v\n"
     ]
    }
   ],
   "source": [
    "def index(n):\n",
    "    if type(n) == str:\n",
    "        for i in range(len(n)):\n",
    "            if i % 2 == 0:\n",
    "                print(n[i])\n",
    "    else:\n",
    "        print('please enter an object not a number')\n",
    "\n",
    "index('pynative')\n",
    "            "
   ]
  },
  {
   "cell_type": "code",
   "execution_count": 11,
   "id": "ec13bbdb-3a1d-4908-bc90-874deb110b01",
   "metadata": {},
   "outputs": [
    {
     "name": "stdout",
     "output_type": "stream",
     "text": [
      "ng\n",
      "amesh\n"
     ]
    }
   ],
   "source": [
    "def renive_str(n,m):\n",
    "    if type(n) == str and type(m) == int:\n",
    "        print(n[m:])\n",
    "\n",
    "renive_str('string',4)\n",
    "renive_str('Prathamesh',5)\n"
   ]
  },
  {
   "cell_type": "code",
   "execution_count": 16,
   "id": "3e903aa6-779a-4060-9605-cbbbccc9d923",
   "metadata": {},
   "outputs": [
    {
     "name": "stdout",
     "output_type": "stream",
     "text": [
      "True\n",
      "False\n"
     ]
    }
   ],
   "source": [
    "def first_last(n):\n",
    "    if n[0] == n[-1]:\n",
    "        return True\n",
    "    else:\n",
    "        return False\n",
    "\n",
    "numbers_x = [10, 20, 30, 40, 10]\n",
    "numbers_y = [75, 65, 35, 75, 30]\n",
    "print(first_last(numbers_x))\n",
    "print(first_last(numbers_y))\n"
   ]
  },
  {
   "cell_type": "code",
   "execution_count": 17,
   "id": "6fc89810-b268-414b-b88c-df0514c7d125",
   "metadata": {},
   "outputs": [
    {
     "name": "stdout",
     "output_type": "stream",
     "text": [
      "10\n",
      "20\n",
      "55\n"
     ]
    }
   ],
   "source": [
    "def divi(n):\n",
    "    for i in n:\n",
    "        if i % 5 == 0:\n",
    "            print(i)\n",
    "\n",
    "divi([10, 20, 33, 46, 55])"
   ]
  },
  {
   "cell_type": "code",
   "execution_count": 22,
   "id": "35f357db-e2c7-470d-be59-d545ebff9e26",
   "metadata": {},
   "outputs": [
    {
     "name": "stdout",
     "output_type": "stream",
     "text": [
      "emma appear 2 times\n"
     ]
    }
   ],
   "source": [
    "def appear(n):\n",
    "    a =  n.count(\"Emma\" )\n",
    "    print(f\"emma appear {a} times\")\n",
    "str_x = \"Emma is good developer. Emma is a writer\"\n",
    "appear(str_x)"
   ]
  },
  {
   "cell_type": "code",
   "execution_count": 23,
   "id": "9f85883e-5281-4666-ade0-a25c7c8ee9ee",
   "metadata": {},
   "outputs": [
    {
     "name": "stdout",
     "output_type": "stream",
     "text": [
      "1\n",
      "22\n",
      "333\n",
      "4444\n",
      "55555\n"
     ]
    }
   ],
   "source": [
    "for i in range(1,6):\n",
    "    total = str(i) * i\n",
    "    print(total)"
   ]
  },
  {
   "cell_type": "code",
   "execution_count": 28,
   "id": "7cc651f0-7b10-499b-abc1-b9d3aab8c20c",
   "metadata": {},
   "outputs": [
    {
     "data": {
      "text/plain": [
       "'121 is a palindrome'"
      ]
     },
     "execution_count": 28,
     "metadata": {},
     "output_type": "execute_result"
    }
   ],
   "source": [
    "def palindrome_num(n):\n",
    "    if type(n) != str:\n",
    "        n = str(n)\n",
    "    if n[0:] == n[::-1]:\n",
    "        return f\"{n} is a palindrome\"\n",
    "    else:\n",
    "        return False\n",
    "\n",
    "palindrome_num(121)"
   ]
  },
  {
   "cell_type": "code",
   "execution_count": 34,
   "id": "95c55eea-3c02-4378-bdbf-8597e7c45e59",
   "metadata": {},
   "outputs": [],
   "source": [
    "def odd_even(n1,n2):\n",
    "    lis  = []\n",
    "    for i in n1:\n",
    "        if i % 2 != 0:\n",
    "            lis.append(i)\n",
    "    for i in n2:\n",
    "        if i % 2 == 0:\n",
    "            lis.append(i)\n",
    "    return lis       "
   ]
  },
  {
   "cell_type": "code",
   "execution_count": 35,
   "id": "a7098d6f-a95c-4b4d-99bf-c0a3ad5f09b1",
   "metadata": {},
   "outputs": [
    {
     "data": {
      "text/plain": [
       "[25, 35, 40, 60, 90]"
      ]
     },
     "execution_count": 35,
     "metadata": {},
     "output_type": "execute_result"
    }
   ],
   "source": [
    "list1 = [10, 20, 25, 30, 35]\n",
    "list2 = [40, 45, 60, 75, 90]\n",
    "odd_even(list1,list2)"
   ]
  },
  {
   "cell_type": "code",
   "execution_count": 6,
   "id": "844d2eb4-11c8-4b7f-8299-3a0d5d86ee9c",
   "metadata": {},
   "outputs": [
    {
     "name": "stdout",
     "output_type": "stream",
     "text": [
      "12\n",
      "13\n"
     ]
    }
   ],
   "source": [
    "def py(a,b):\n",
    "    print(a)\n",
    "    print(b)\n",
    "\n",
    "if __name__ == '__main__':\n",
    "    (py(input(),input()))"
   ]
  },
  {
   "cell_type": "code",
   "execution_count": 11,
   "id": "629d55ce",
   "metadata": {},
   "outputs": [
    {
     "name": "stdout",
     "output_type": "stream",
     "text": [
      "starting from over here\n",
      "10\n",
      "20\n",
      "30\n"
     ]
    }
   ],
   "source": [
    "def many_arugments(*n):\n",
    "    print('starting from over here')\n",
    "    for i in n:\n",
    "        print(i)\n",
    "\n",
    "(many_arugments(10,20,30))"
   ]
  },
  {
   "cell_type": "code",
   "execution_count": 14,
   "id": "7548819f",
   "metadata": {},
   "outputs": [
    {
     "name": "stdout",
     "output_type": "stream",
     "text": [
      "(67, -21)\n"
     ]
    }
   ],
   "source": [
    "def cal(a,b):\n",
    "    return a+b,a-b\n",
    "\n",
    "print(cal(23,44))"
   ]
  },
  {
   "cell_type": "code",
   "execution_count": 17,
   "id": "aaf75ed6",
   "metadata": {},
   "outputs": [
    {
     "name": "stdout",
     "output_type": "stream",
     "text": [
      "('ron', 3000)\n",
      "('prathamesh', 9000)\n"
     ]
    }
   ],
   "source": [
    "def show_function(name,salary = 9000):\n",
    "    return name,salary\n",
    "\n",
    "print(show_function('ron',3000))\n",
    "print(show_function('prathamesh'))\n",
    "\n",
    "# this is how you give a default keyword so that if the value is missing then you can just use the default value in that place"
   ]
  },
  {
   "cell_type": "code",
   "execution_count": 22,
   "id": "f312a020",
   "metadata": {},
   "outputs": [
    {
     "name": "stdout",
     "output_type": "stream",
     "text": [
      "73\n"
     ]
    }
   ],
   "source": [
    "def outer_func(a,b):\n",
    "    \n",
    "    def inner_function(a,b):\n",
    "        return a + b\n",
    "    \n",
    "    return inner_function(a,b) + 5\n",
    "\n",
    "print(outer_func(23,45))\n",
    "\n",
    "# so we cannot give it like this like creating a def and calling a def function it is wrong in that as it will not able to do that but we can do that in claseses\n",
    "# for that u have to learn or lets say revise the python"
   ]
  },
  {
   "cell_type": "code",
   "execution_count": 27,
   "id": "1dda1027",
   "metadata": {},
   "outputs": [],
   "source": [
    "def rec_sum(n):\n",
    "    if n == 0 :\n",
    "        return n\n",
    "    return n + rec_sum(n-1)"
   ]
  },
  {
   "cell_type": "code",
   "execution_count": 28,
   "id": "6a3a4f83",
   "metadata": {},
   "outputs": [
    {
     "data": {
      "text/plain": [
       "55"
      ]
     },
     "execution_count": 28,
     "metadata": {},
     "output_type": "execute_result"
    }
   ],
   "source": [
    "rec_sum(10)"
   ]
  },
  {
   "cell_type": "code",
   "execution_count": 30,
   "id": "7efa4f95",
   "metadata": {},
   "outputs": [
    {
     "name": "stdout",
     "output_type": "stream",
     "text": [
      "Emma 26\n"
     ]
    }
   ],
   "source": [
    "def display_student(name, age):\n",
    "    print(name, age)\n",
    "\n",
    "display_student(\"Emma\", 26)\n",
    "\n",
    "show_student = display_student"
   ]
  },
  {
   "cell_type": "code",
   "execution_count": 31,
   "id": "c4da7bf6",
   "metadata": {},
   "outputs": [
    {
     "name": "stdout",
     "output_type": "stream",
     "text": [
      "ron 23\n"
     ]
    }
   ],
   "source": [
    "show_student('ron',23)"
   ]
  },
  {
   "cell_type": "code",
   "execution_count": 40,
   "id": "5f656089",
   "metadata": {},
   "outputs": [],
   "source": [
    "def even_no():\n",
    "    res = []\n",
    "    for i in range(4,30):\n",
    "        if i % 2 == 0 :\n",
    "           res.append(i) \n",
    "    print(res)"
   ]
  },
  {
   "cell_type": "code",
   "execution_count": 41,
   "id": "9c4ac36f",
   "metadata": {},
   "outputs": [
    {
     "name": "stdout",
     "output_type": "stream",
     "text": [
      "<function even_no at 0x0000026718CF03A0>\n"
     ]
    }
   ],
   "source": [
    "print(even_no)"
   ]
  },
  {
   "cell_type": "code",
   "execution_count": 44,
   "id": "2b184e9a",
   "metadata": {},
   "outputs": [
    {
     "name": "stdout",
     "output_type": "stream",
     "text": [
      "[4, 6, 8, 10, 12, 14, 16, 18, 20, 22, 24, 26, 28]\n"
     ]
    }
   ],
   "source": [
    "res = []\n",
    "for i in range(4,30):\n",
    "    if i % 2 == 0 :           \n",
    "        res.append(i) \n",
    "print(res)"
   ]
  },
  {
   "cell_type": "code",
   "execution_count": 50,
   "id": "48efc2a4",
   "metadata": {},
   "outputs": [
    {
     "name": "stdout",
     "output_type": "stream",
     "text": [
      "[4, 6, 8, 10, 12, 14, 16, 18, 20, 22, 24, 26, 28]\n"
     ]
    }
   ],
   "source": [
    "#easiet way to write down the code was this \n",
    "\n",
    "print(list(range(4,30,2)))"
   ]
  },
  {
   "cell_type": "code",
   "execution_count": 51,
   "id": "c8d1d273",
   "metadata": {},
   "outputs": [
    {
     "name": "stdout",
     "output_type": "stream",
     "text": [
      "24\n"
     ]
    }
   ],
   "source": [
    "x = [4, 6, 8, 24, 12, 2]\n",
    "print(max(x))"
   ]
  },
  {
   "cell_type": "code",
   "execution_count": 55,
   "id": "0492bede",
   "metadata": {},
   "outputs": [
    {
     "name": "stdout",
     "output_type": "stream",
     "text": [
      "The given list: [4, 6, 8, 24, 12, 2]\n",
      "The Max value in this list : 24\n"
     ]
    }
   ],
   "source": [
    "X = [4, 6, 8, 24, 12, 2]\n",
    "\n",
    "max = X[0]\n",
    "for i in range(1,len(X)):\n",
    "    if max < X[i]:\n",
    "        max = X[i]\n",
    "print(\"The given list:\",X)\n",
    "print(\"The Max value in this list :\",max)"
   ]
  },
  {
   "cell_type": "code",
   "execution_count": 10,
   "id": "948ff8ca",
   "metadata": {},
   "outputs": [
    {
     "name": "stdout",
     "output_type": "stream",
     "text": [
      " 6 3 5 7\n"
     ]
    }
   ],
   "source": [
    "def space(n):\n",
    "    we = ''\n",
    "    total = str(n)\n",
    "    \n",
    "\n",
    "    for i in total:\n",
    "        we += f'{i} '\n",
    "\n",
    "    return we[::-1]\n",
    "\n",
    "x = 7536\n",
    "print(space(x))\n"
   ]
  },
  {
   "cell_type": "code",
   "execution_count": 23,
   "id": "6f68ba88",
   "metadata": {},
   "outputs": [
    {
     "name": "stdout",
     "output_type": "stream",
     "text": [
      "Given income 45000\n",
      "Total tax to pay is 6000.0\n"
     ]
    }
   ],
   "source": [
    "income = 45000\n",
    "tax_payable = 0\n",
    "print(\"Given income\", income)\n",
    "\n",
    "if income <= 10000:\n",
    "    tax_payable = 0\n",
    "elif income <= 20000:\n",
    "    # no tax on first 10,000\n",
    "    x = income - 10000\n",
    "    # 10% tax\n",
    "    tax_payable = x * 10 / 100\n",
    "else:\n",
    "    # first 10,000\n",
    "    tax_payable = 0\n",
    "\n",
    "    # next 10,000 10% tax\n",
    "    tax_payable = 10000 * 10 / 100\n",
    "\n",
    "    # remaining 20%tax\n",
    "    tax_payable += (income - 20000) * 20 / 100\n",
    "\n",
    "print(\"Total tax to pay is\", tax_payable)"
   ]
  },
  {
   "cell_type": "code",
   "execution_count": 36,
   "id": "bbe5ca48",
   "metadata": {},
   "outputs": [
    {
     "name": "stdout",
     "output_type": "stream",
     "text": [
      "1 2 3 4 5 6 7 8 9 10 \n",
      "2 4 6 8 10 12 14 16 18 20 \n",
      "3 6 9 12 15 18 21 24 27 30 \n",
      "4 8 12 16 20 24 28 32 36 40 \n",
      "5 10 15 20 25 30 35 40 45 50 \n",
      "6 12 18 24 30 36 42 48 54 60 \n",
      "7 14 21 28 35 42 49 56 63 70 \n",
      "8 16 24 32 40 48 56 64 72 80 \n",
      "9 18 27 36 45 54 63 72 81 90 \n",
      "10 20 30 40 50 60 70 80 90 100 \n"
     ]
    }
   ],
   "source": [
    "for i in range(1,11):\n",
    "    for j in range(1,11):\n",
    "        table = i * j\n",
    "        print(table, end=\" \")\n",
    "    print()\n"
   ]
  },
  {
   "cell_type": "code",
   "execution_count": 47,
   "id": "959d521f",
   "metadata": {},
   "outputs": [
    {
     "name": "stdout",
     "output_type": "stream",
     "text": [
      "\n",
      "*\n",
      "**\n",
      "***\n",
      "****\n",
      "*****\n"
     ]
    }
   ],
   "source": [
    "n = 5 \n",
    "for i in range(n+1):\n",
    "    total = ('*' * i)\n",
    "    print(total)"
   ]
  },
  {
   "cell_type": "code",
   "execution_count": 52,
   "id": "72bccdb5",
   "metadata": {},
   "outputs": [
    {
     "name": "stdout",
     "output_type": "stream",
     "text": [
      "* * * * * \n",
      "* * * * \n",
      "* * * \n",
      "* * \n",
      "* \n"
     ]
    }
   ],
   "source": [
    "n = 5 \n",
    "for i in range(n,0,-1):\n",
    "    print('* '* i)"
   ]
  },
  {
   "cell_type": "code",
   "execution_count": 49,
   "id": "a2324770",
   "metadata": {},
   "outputs": [
    {
     "name": "stdout",
     "output_type": "stream",
     "text": [
      "* * * * *  \n",
      "* * * *  \n",
      "* * *  \n",
      "* *  \n",
      "*  \n",
      " \n"
     ]
    }
   ],
   "source": [
    "for i in range(6, 0, -1):\n",
    "    for j in range(0, i - 1):\n",
    "        print(\"*\", end=' ')\n",
    "    print(\" \")"
   ]
  },
  {
   "cell_type": "code",
   "execution_count": 53,
   "id": "6ce3994d",
   "metadata": {},
   "outputs": [
    {
     "data": {
      "text/plain": [
       "32"
      ]
     },
     "execution_count": 53,
     "metadata": {},
     "output_type": "execute_result"
    }
   ],
   "source": [
    "def exponent(n,m):\n",
    "    return n ** m\n",
    "\n",
    "exponent(2,5)"
   ]
  },
  {
   "cell_type": "markdown",
   "id": "8b34dfbb",
   "metadata": {},
   "source": [
    "date - 23/09/2024 timing = 23:25"
   ]
  },
  {
   "cell_type": "code",
   "execution_count": 1,
   "id": "fb37e10a",
   "metadata": {},
   "outputs": [
    {
     "name": "stdout",
     "output_type": "stream",
     "text": [
      "4\n"
     ]
    }
   ],
   "source": [
    "def multiply(a,b):\n",
    "    return a * b\n",
    "\n",
    "na = int(input())\n",
    "na1 = int(input())\n",
    "print(multiply(na,na1))"
   ]
  },
  {
   "cell_type": "code",
   "execution_count": 4,
   "id": "3c061f76",
   "metadata": {},
   "outputs": [
    {
     "name": "stdout",
     "output_type": "stream",
     "text": [
      "ron**id**mad\n"
     ]
    }
   ],
   "source": [
    "s = int(input('how many string u want maximum is 3:'))\n",
    "str = []\n",
    "for i in range(s):\n",
    "    string  = input()\n",
    "    str.append(string)\n",
    "\n",
    "res = '**'.join(str)\n",
    "print(res)"
   ]
  },
  {
   "cell_type": "markdown",
   "id": "da964710",
   "metadata": {},
   "source": [
    "another way to do this by just doing the print statement"
   ]
  },
  {
   "cell_type": "code",
   "execution_count": 5,
   "id": "bbed34fa",
   "metadata": {},
   "outputs": [
    {
     "name": "stdout",
     "output_type": "stream",
     "text": [
      "my**name**is**ron\n"
     ]
    }
   ],
   "source": [
    "print('my','name','is','ron',sep = '**')"
   ]
  },
  {
   "cell_type": "markdown",
   "id": "cda59e5c",
   "metadata": {},
   "source": [
    "this is  way to do this both of the steps are correct"
   ]
  },
  {
   "cell_type": "code",
   "execution_count": 6,
   "id": "42acf556",
   "metadata": {},
   "outputs": [
    {
     "name": "stdout",
     "output_type": "stream",
     "text": [
      "10\n"
     ]
    }
   ],
   "source": [
    "num = 8\n",
    "print('%o' % num)"
   ]
  },
  {
   "cell_type": "code",
   "execution_count": 7,
   "id": "f46d03c2",
   "metadata": {},
   "outputs": [
    {
     "name": "stdout",
     "output_type": "stream",
     "text": [
      "144\n"
     ]
    }
   ],
   "source": [
    "num = 100\n",
    "print('%o'% num)"
   ]
  },
  {
   "cell_type": "code",
   "execution_count": 14,
   "id": "087fd9af",
   "metadata": {},
   "outputs": [
    {
     "name": "stdout",
     "output_type": "stream",
     "text": [
      "458.54\n"
     ]
    }
   ],
   "source": [
    "num = 458.541315\n",
    "format1 = '{:.2f}'.format(num)\n",
    "print(format1)"
   ]
  },
  {
   "cell_type": "markdown",
   "id": "92ac6f5d",
   "metadata": {},
   "source": [
    "the mistake that i did was forgetting point"
   ]
  },
  {
   "cell_type": "code",
   "execution_count": 13,
   "id": "78a56386",
   "metadata": {},
   "outputs": [
    {
     "name": "stdout",
     "output_type": "stream",
     "text": [
      "10.12\n"
     ]
    }
   ],
   "source": [
    "num = 10.123\n",
    "form = f'{num:.2f}'\n",
    "print(form)"
   ]
  },
  {
   "cell_type": "code",
   "execution_count": 15,
   "id": "dc9fd5a6",
   "metadata": {},
   "outputs": [
    {
     "name": "stdout",
     "output_type": "stream",
     "text": [
      "The user list is [23.5, 23.6, 55.5, 33.4, 22.6]\n"
     ]
    }
   ],
   "source": [
    "a = []\n",
    "for i in range(5):\n",
    "    n = float(input('enter float no:'))\n",
    "    a.append(n)\n",
    "\n",
    "print('The user list is',a)"
   ]
  },
  {
   "cell_type": "code",
   "execution_count": null,
   "id": "beb6b0b1",
   "metadata": {},
   "outputs": [],
   "source": []
  }
 ],
 "metadata": {
  "kernelspec": {
   "display_name": "Python 3 (ipykernel)",
   "language": "python",
   "name": "python3"
  },
  "language_info": {
   "codemirror_mode": {
    "name": "ipython",
    "version": 3
   },
   "file_extension": ".py",
   "mimetype": "text/x-python",
   "name": "python",
   "nbconvert_exporter": "python",
   "pygments_lexer": "ipython3",
   "version": "3.10.2"
  }
 },
 "nbformat": 4,
 "nbformat_minor": 5
}
